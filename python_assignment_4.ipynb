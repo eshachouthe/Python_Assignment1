{
 "cells": [
  {
   "cell_type": "markdown",
   "metadata": {},
   "source": [
    "1.1 Write a Python Program(with class concepts) to find the area of the triangle using the below\n",
    "formula.\n",
    "\n",
    "area = (s*(s-a)*(s-b)*(s-c)) ** 0.5\n",
    "\n",
    "Function to take the length of the sides of triangle from user should be defined in the parent\n",
    "class and function to calculate the area should be defined in subclass."
   ]
  },
  {
   "cell_type": "code",
   "execution_count": 1,
   "metadata": {},
   "outputs": [
    {
     "name": "stdout",
     "output_type": "stream",
     "text": [
      "Enter the legth of side A of triangle:3\n",
      "Enter the legth of side B of triangle:4\n",
      "Enter the legth of side C of triangle:5\n",
      "Area of triangle: 6.0\n"
     ]
    }
   ],
   "source": [
    "class LengthClass(object):\n",
    "    def __init__(self):\n",
    "        self.a=0\n",
    "        self.b=0\n",
    "        self.c=0\n",
    "        \n",
    "    def setSide(self):\n",
    "        self.a=float(input(\"Enter the legth of side A of triangle:\"))\n",
    "        self.b=float(input(\"Enter the legth of side B of triangle:\"))\n",
    "        self.c=float(input(\"Enter the legth of side C of triangle:\"))\n",
    "\n",
    "class CalcArea(LengthClass):\n",
    "    def __init__(self):\n",
    "        LengthClass.__init__(self)\n",
    "        \n",
    "    def calcfunc(self):\n",
    "        s=(self.a+self.b+self.c)/2\n",
    "        area=(s*(s-self.a)*(s-self.b)*(s-self.c)) ** 0.5\n",
    "        return area\n",
    "    \n",
    "tri=CalcArea()\n",
    "tri.setSide()\n",
    "a=tri.calcfunc()\n",
    "print(\"Area of triangle:\",a)"
   ]
  },
  {
   "cell_type": "markdown",
   "metadata": {},
   "source": [
    "1.2 Write a function filter_long_words() that takes a list of words and an integer n and returns\n",
    "the list of words that are longer than n."
   ]
  },
  {
   "cell_type": "code",
   "execution_count": 2,
   "metadata": {},
   "outputs": [
    {
     "name": "stdout",
     "output_type": "stream",
     "text": [
      "Enter n:3\n",
      "Enter words:this is a test\n"
     ]
    },
    {
     "data": {
      "text/plain": [
       "['this', 'test']"
      ]
     },
     "execution_count": 2,
     "metadata": {},
     "output_type": "execute_result"
    }
   ],
   "source": [
    "def filter_long_words():\n",
    "    n=int(input(\"Enter n:\"))\n",
    "    lw=input(\"Enter words:\")\n",
    "    word_list=lw.split(\" \")\n",
    "    fin=[]\n",
    "    for i in word_list:\n",
    "        z=int(len(i))\n",
    "        if (z>n):\n",
    "            fin.append(i)\n",
    "    return fin\n",
    "    \n",
    "filter_long_words()"
   ]
  },
  {
   "cell_type": "markdown",
   "metadata": {},
   "source": [
    "2.1 Write a Python program using function concept that maps list of words into a list of integers representing the lengths of the corresponding words.\n",
    "\n",
    "Hint: If a list [ ab,cde,erty] is passed on to the python function output should come as [2,3,4]\n",
    "\n",
    "Here 2,3 and 4 are the lengths of the words in the list."
   ]
  },
  {
   "cell_type": "code",
   "execution_count": 3,
   "metadata": {},
   "outputs": [
    {
     "data": {
      "text/plain": [
       "[2, 3, 4]"
      ]
     },
     "execution_count": 3,
     "metadata": {},
     "output_type": "execute_result"
    }
   ],
   "source": [
    "def findlength(ll):\n",
    "    n=len(ll)\n",
    "    llen=[]\n",
    "    j=0\n",
    "    for i in ll:\n",
    "        z=len(i)\n",
    "        llen.append(z)\n",
    "        j=j+1\n",
    "    return llen\n",
    "\n",
    "findlength(['ab','cde','erty'])"
   ]
  },
  {
   "cell_type": "markdown",
   "metadata": {},
   "source": [
    "2.2 Write a Python function which takes a character (i.e. a string of length 1) and returns True if\n",
    "it is a vowel, False otherwise."
   ]
  },
  {
   "cell_type": "code",
   "execution_count": 4,
   "metadata": {},
   "outputs": [
    {
     "name": "stdout",
     "output_type": "stream",
     "text": [
      "Enter an alphabet:t\n"
     ]
    },
    {
     "data": {
      "text/plain": [
       "False"
      ]
     },
     "execution_count": 4,
     "metadata": {},
     "output_type": "execute_result"
    }
   ],
   "source": [
    "def findV():\n",
    "    ch=input(\"Enter an alphabet:\")\n",
    "    vo=['a','e','i','o','u']\n",
    "    flag=False\n",
    "    for i in vo:\n",
    "        if (ch==i):\n",
    "            flag=True\n",
    "    return flag\n",
    "findV()"
   ]
  },
  {
   "cell_type": "code",
   "execution_count": null,
   "metadata": {},
   "outputs": [],
   "source": []
  }
 ],
 "metadata": {
  "kernelspec": {
   "display_name": "Python 3",
   "language": "python",
   "name": "python3"
  },
  "language_info": {
   "codemirror_mode": {
    "name": "ipython",
    "version": 3
   },
   "file_extension": ".py",
   "mimetype": "text/x-python",
   "name": "python",
   "nbconvert_exporter": "python",
   "pygments_lexer": "ipython3",
   "version": "3.8.3"
  }
 },
 "nbformat": 4,
 "nbformat_minor": 4
}
