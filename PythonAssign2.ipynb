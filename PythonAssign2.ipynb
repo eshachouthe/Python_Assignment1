{
 "cells": [
  {
   "cell_type": "markdown",
   "metadata": {},
   "source": [
    "### Q1 Create the below pattern using nested for loop in Python.\n",
    "## *\n",
    "## **\n",
    "## ***\n",
    "## ****\n",
    "## *****\n",
    "## ****\n",
    "## ***\n",
    "## **\n",
    "## *"
   ]
  },
  {
   "cell_type": "code",
   "execution_count": 1,
   "metadata": {},
   "outputs": [
    {
     "name": "stdout",
     "output_type": "stream",
     "text": [
      "*\n",
      "**\n",
      "***\n",
      "****\n",
      "*****\n",
      "****\n",
      "***\n",
      "**\n",
      "*\n",
      "\n",
      "\n"
     ]
    }
   ],
   "source": [
    "fst=\"\"\n",
    "lst=\"\"\n",
    "for i in range(1,6):\n",
    "    for j in range(0,i):\n",
    "        fst=fst+\"*\"\n",
    "    fst=fst+\"\\n\"\n",
    "    for k in range(5-i):\n",
    "        lst=lst+\"*\"\n",
    "    lst=lst+\"\\n\"\n",
    "res=fst+lst\n",
    "print(res)"
   ]
  },
  {
   "cell_type": "markdown",
   "metadata": {},
   "source": [
    "## Q2 Write a Python program to reverse a word after accepting the input from the user.\n",
    "Input word: ineuron\n",
    "Output: norueni"
   ]
  },
  {
   "cell_type": "code",
   "execution_count": 2,
   "metadata": {},
   "outputs": [
    {
     "name": "stdout",
     "output_type": "stream",
     "text": [
      "Input word:ineuron\n",
      "Output: norueni\n"
     ]
    }
   ],
   "source": [
    "def reverse(s):\n",
    "    slen=len(s)\n",
    "    new=\"\"\n",
    "    for i in range(0,slen):\n",
    "        new=new+s[slen-1-i]\n",
    "    return new\n",
    "\n",
    "word=input(\"Input word:\")\n",
    "print(\"Output:\",reverse(word))"
   ]
  },
  {
   "cell_type": "code",
   "execution_count": null,
   "metadata": {},
   "outputs": [],
   "source": []
  }
 ],
 "metadata": {
  "kernelspec": {
   "display_name": "Python 3",
   "language": "python",
   "name": "python3"
  },
  "language_info": {
   "codemirror_mode": {
    "name": "ipython",
    "version": 3
   },
   "file_extension": ".py",
   "mimetype": "text/x-python",
   "name": "python",
   "nbconvert_exporter": "python",
   "pygments_lexer": "ipython3",
   "version": "3.8.3"
  }
 },
 "nbformat": 4,
 "nbformat_minor": 4
}
