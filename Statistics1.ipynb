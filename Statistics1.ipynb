{
 "cells": [
  {
   "cell_type": "markdown",
   "metadata": {},
   "source": [
    "Calculate the mean, median, mode and standard deviation for the problem statements 1& 2.\n",
    "\n",
    "Problem Statement 1:\n",
    "The marks awarded for an assignment set for a Year 8 class of 20 students were as follows:\n",
    "6 7 5 7 7 8 7 6 9 7 4 10 6 8 8 9 5 6 4 8"
   ]
  },
  {
   "cell_type": "code",
   "execution_count": 1,
   "metadata": {},
   "outputs": [
    {
     "name": "stdout",
     "output_type": "stream",
     "text": [
      "Mean: 6.85\n",
      "Median: 7.0\n",
      "Mode: ModeResult(mode=array([7]), count=array([5]))\n",
      "Standard Deviation: 1.5898113095584647\n"
     ]
    }
   ],
   "source": [
    "import numpy as np\n",
    "from scipy import stats\n",
    "marks=[6,7,5,7,7,8,7,6,9,7,4,10,6,8,8,9,5,6,4,8]\n",
    "mean=np.mean(marks)\n",
    "median=np.median(marks)\n",
    "mode=stats.mode(marks)\n",
    "std=np.std(marks)\n",
    "\n",
    "print(\"Mean:\", mean)\n",
    "print(\"Median:\", median)\n",
    "print(\"Mode:\", mode)\n",
    "print(\"Standard Deviation:\", std)\n"
   ]
  },
  {
   "cell_type": "markdown",
   "metadata": {},
   "source": [
    "Problem Statement 2:\n",
    "The number of calls from motorists per day for roadside service was recorded for a particular month:\n",
    "28, 122, 217, 130, 120, 86, 80, 90, 140, 120, 70, 40, 145, 113, 90, 68, 174, 194, 170, 100, 75, 104, 97, 75, 123, 100, 75, 104, 97, 75, 123, 100, 89, 120, 109"
   ]
  },
  {
   "cell_type": "code",
   "execution_count": 2,
   "metadata": {},
   "outputs": [
    {
     "name": "stdout",
     "output_type": "stream",
     "text": [
      "Mean: 107.51428571428572\n",
      "Median: 100.0\n",
      "Mode: ModeResult(mode=array([75]), count=array([4]))\n",
      "Standard Deviation: 38.77287080168403\n"
     ]
    }
   ],
   "source": [
    "calls=[28, 122, 217, 130, 120, 86, 80, 90, 140, 120, 70, 40, 145, 113, 90, 68, 174, 194, 170, 100, 75, 104, 97, 75, 123, 100, 75, 104, 97, 75, 123, 100, 89, 120, 109]\n",
    "mean=np.mean(calls)\n",
    "median=np.median(calls)\n",
    "mode=stats.mode(calls)\n",
    "std=np.std(calls)\n",
    "\n",
    "print(\"Mean:\", mean)\n",
    "print(\"Median:\", median)\n",
    "print(\"Mode:\", mode)\n",
    "print(\"Standard Deviation:\", std)"
   ]
  },
  {
   "cell_type": "markdown",
   "metadata": {},
   "source": [
    "Problem Statement 3:\n",
    "The number of times I go to the gym in weekdays, are given below along with its associated probability:\n",
    "x = 0, 1, 2, 3, 4, 5\n",
    "f(x) = 0.09, 0.15, 0.40, 0.25, 0.10, 0.01\n",
    "Calculate the mean no. of workouts in a week. Also evaluate the variance involved in it."
   ]
  },
  {
   "cell_type": "code",
   "execution_count": 3,
   "metadata": {},
   "outputs": [
    {
     "name": "stdout",
     "output_type": "stream",
     "text": [
      "Mean (workouts/week): 2.15\n",
      "Variance: 1.2275\n"
     ]
    }
   ],
   "source": [
    "x=[0, 1, 2, 3, 4, 5]\n",
    "f=[0.09, 0.15, 0.40, 0.25, 0.10, 0.01]\n",
    "n=6\n",
    "mean=0\n",
    "var=0\n",
    "for i in range(0,6):\n",
    "    mean=mean+(x[i]*f[i])\n",
    "    \n",
    "print(\"Mean (workouts/week):\",mean)\n",
    "\n",
    "#sum of all((x-mean)^2 *f(x))\n",
    "for i in range(0,6):\n",
    "    var=var+(((x[i]-mean)**2)*f[i])\n",
    "    \n",
    "print(\"Variance:\", var)"
   ]
  },
  {
   "cell_type": "markdown",
   "metadata": {},
   "source": [
    "Problem Statement 4:\n",
    "Let the continuous random variable D denote the diameter of the hole drilled in an aluminum sheet. The target diameter to be achieved is 12.5mm. Random disturbances in the process often result in inaccuracy. Historical data shows that the distribution of D can be modelled by the PDF (d) = 20e−20(d−12.5), d ≥ 12.5. If a part with diameter > 12.6 mm needs to be scrapped, what is the proportion of those parts? What is the CDF when the diameter is of 11 mm? What is your conclusion regarding the proportion of scraps?"
   ]
  },
  {
   "cell_type": "markdown",
   "metadata": {},
   "source": [
    "Solution : \n",
    "\n",
    "P(d>12.6)= integrate(20e**(-20*(d-12.5))) limit 12.6 to infinity = 0.135 => proportion of parts scrapped\n",
    "\n",
    "CDF when diameter is 11mm = 0"
   ]
  },
  {
   "cell_type": "markdown",
   "metadata": {},
   "source": [
    "Problem Statement 5:\n",
    "A company manufactures LED bulbs with a faulty rate of 30%. If I randomly select 6 chosen LEDs, what is the probability of having 2 faulty LEDs in my sample? Calculate the average value of this process. Also evaluate the standard deviation associated with it."
   ]
  },
  {
   "cell_type": "code",
   "execution_count": 4,
   "metadata": {},
   "outputs": [
    {
     "name": "stdout",
     "output_type": "stream",
     "text": [
      "Probability of 2 faulty bulbs will be : 0.32413499999999995\n",
      "Average: 1.7999999999999998\n",
      "standard deviation: 1.1224972160321822\n"
     ]
    }
   ],
   "source": [
    "from scipy.stats import binom\n",
    "import math\n",
    "\n",
    "prob=binom.pmf(k=2,n=6,p=0.3)\n",
    "print(\"Probability of 2 faulty bulbs will be :\",prob)\n",
    "\n",
    "mean,var=binom.stats(n=6,p=0.3)\n",
    "print(\"Average:\",mean)\n",
    "print(\"standard deviation:\",math.sqrt(var))"
   ]
  },
  {
   "cell_type": "markdown",
   "metadata": {},
   "source": [
    "Problem Statement 6: Gaurav and Barakha are both preparing for entrance exams. Gaurav attempts to solve 8 questions per day with a correction rate of 75%, while Barakha averages around 12 questions per day with a correction rate of 45%. What is the probability that each of them will solve 5 questions correctly? What happens in cases of 4 and 6 correct solutions? What do you infer from it? What are the two main governing factors affecting their ability to solve questions correctly? Give a pictorial representation of the same to validate your answer."
   ]
  },
  {
   "cell_type": "markdown",
   "metadata": {},
   "source": [
    "Problem Statement 7:\n",
    "Customers arrive at a rate of 72 per hour to my shop. What is the probability of k customers arriving in 4 minutes? a) 5 customers, b) not more than 3 customers, c) more than 3 customers. Give a pictorial representation of the same to validate your answer.\n"
   ]
  },
  {
   "cell_type": "code",
   "execution_count": 5,
   "metadata": {},
   "outputs": [
    {
     "name": "stderr",
     "output_type": "stream",
     "text": [
      "C:\\Anaconda\\lib\\site-packages\\seaborn\\distributions.py:2551: FutureWarning: `distplot` is a deprecated function and will be removed in a future version. Please adapt your code to use either `displot` (a figure-level function with similar flexibility) or `histplot` (an axes-level function for histograms).\n",
      "  warnings.warn(msg, FutureWarning)\n"
     ]
    },
    {
     "data": {
      "text/plain": [
       "<AxesSubplot:ylabel='Density'>"
      ]
     },
     "execution_count": 5,
     "metadata": {},
     "output_type": "execute_result"
    },
    {
     "data": {
      "image/png": "[encoded data removed]",
      "text/plain": [
       "<Figure size 432x288 with 1 Axes>"
      ]
     },
     "metadata": {
      "needs_background": "light"
     },
     "output_type": "display_data"
    }
   ],
   "source": [
    "#customers arriving at 72 per hour i.e. 1.2 per minute. => 4.8 per 4 minutes =>mu=4.8\n",
    "# P(x=5) = (e^-4.8)(4.8 ^ 5)/5! = 0.00822974704(4.8 ^ 5)/5! = 0.175\n",
    "# P(x<=3) = (e^-4.8)(4.8 ^ 3)/3! + (e^-4.8)(4.8 ^ 2)/2! + (e^-4.8)(4.8 ^ 1)/1! = 0.152 + 0.094 + 0.0395 =0.2855\n",
    "# P(X>3) = (e^-4.8)(4.8 ^ 3)/3! + (e^-4.8)(4.8 ^ 4)/4! + (e^-4.8)(4.8 ^ 5)/5! = 0.152 + 0.182 + 0.175 = 0.509\n",
    "\n",
    "from scipy.stats import poisson\n",
    "import matplotlib.pyplot as plt\n",
    "import seaborn as sns\n",
    "poisson_data=poisson.rvs(mu=4.8,size=1000)\n",
    "sns.distplot(poisson_data,hist=True,kde=True)"
   ]
  },
  {
   "cell_type": "markdown",
   "metadata": {},
   "source": [
    "Problem Statement 8:\n",
    "\n",
    "I work as a data analyst in Aeon Learning Pvt. Ltd. After analyzing data, I make reports, where I have the efficiency of entering 77 words per minute with 6 errors per\n",
    "hour. What is the probability that I will commit 2 errors in a 455-word financial report? What happens when the no. of words increases/decreases (in case of 1000 words,\n",
    "255 words)? How is the λ affected? How does it influence the PMF?\n",
    "Give a pictorial representation of the same to validate your answer."
   ]
  },
  {
   "cell_type": "code",
   "execution_count": 6,
   "metadata": {},
   "outputs": [
    {
     "name": "stderr",
     "output_type": "stream",
     "text": [
      "C:\\Anaconda\\lib\\site-packages\\seaborn\\distributions.py:2551: FutureWarning: `distplot` is a deprecated function and will be removed in a future version. Please adapt your code to use either `displot` (a figure-level function with similar flexibility) or `histplot` (an axes-level function for histograms).\n",
      "  warnings.warn(msg, FutureWarning)\n",
      "C:\\Anaconda\\lib\\site-packages\\seaborn\\distributions.py:2551: FutureWarning: `distplot` is a deprecated function and will be removed in a future version. Please adapt your code to use either `displot` (a figure-level function with similar flexibility) or `histplot` (an axes-level function for histograms).\n",
      "  warnings.warn(msg, FutureWarning)\n"
     ]
    },
    {
     "data": {
      "text/plain": [
       "<AxesSubplot:ylabel='Density'>"
      ]
     },
     "execution_count": 6,
     "metadata": {},
     "output_type": "execute_result"
    },
    {
     "data": {
      "image/png": "[encoded data removed]",
      "text/plain": [
       "<Figure size 432x288 with 1 Axes>"
      ]
     },
     "metadata": {
      "needs_background": "light"
     },
     "output_type": "display_data"
    }
   ],
   "source": [
    "#efficiency is 77 words per minute with 6 errors per hour =>6 errors per (77x60)=4620 words => 0.5909 error per 455 word\n",
    "#=> mu=0.5909\n",
    "#P(x=2)=(e^-0.5909)(0.5909^2)/2! = 0.55382861461(0.5909^2)/2! = 0.09668\n",
    "from scipy.stats import poisson\n",
    "import matplotlib.pyplot as plt\n",
    "import seaborn as sns\n",
    "poisson_data=poisson.rvs(mu=0.5909,size=1000)\n",
    "sns.distplot(poisson_data,hist=True,kde=True)\n",
    "poisson_data=poisson.rvs(mu=0.5909,size=255)\n",
    "sns.distplot(poisson_data,hist=True,kde=True)"
   ]
  },
  {
   "cell_type": "markdown",
   "metadata": {},
   "source": [
    "Problem Statement : 9\n",
    "Let the continuous random variable D denote the diameter of the hole drilled in an aluminum sheet. The target diameter to be achieved is 12.5mm. Random disturbances in the process often result in inaccuracy.\n",
    "Historical data shows that the distribution of D can be modelled by the PDF, f(d) = 20e−20(d−12.5), d ≥ 12.5. If a part with diameter > 12.6 mm needs to be scrapped, \n",
    "what is the proportion of those parts? What is the CDF when the diameter is of 11 \n",
    "mm?\n",
    "What is the conclusion of this experiment?"
   ]
  },
  {
   "cell_type": "markdown",
   "metadata": {},
   "source": [
    "Solution : \n",
    "\n",
    "P(d>12.6)= integrate(20e**(-20*(d-12.5))) limit 12.6 to infinity = 0.135 => proportion of parts scrapped\n",
    "\n",
    "CDF when diameter is 11mm = 0"
   ]
  },
  {
   "cell_type": "markdown",
   "metadata": {},
   "source": [
    "Problem Statement : 10\n",
    " Please compute the following:\n",
    "a) P(Z > 1.26), . P(Z < −0.86), P(Z > −1.37), P(−1.25 < Z < 0.37), . P(Z ≤ −4.6)\n",
    "b) Find the value 𝑧 such that 𝑃(𝑍 > 𝑧) = 0.05\n",
    "c) Find the value of 𝑧 such that 𝑃(−𝑧 < 𝑍 < 𝑧) = 0.99"
   ]
  },
  {
   "cell_type": "markdown",
   "metadata": {},
   "source": [
    "a) P(Z>1.26)= 1- P(Z<= 1.26) = 1-0.89616 = 0.10384\n",
    "\n",
    "P(Z<-0.86) = 0.19490\n",
    "\n",
    "P(Z>-1.37) = P(Z<1.37)=0.91465\n",
    "\n",
    "P(-1.25<Z<0.37)=P(Z<0.37)-P(Z<-1.25)=0.64431-0.10565=0.53866\n",
    "\n",
    "P(Z<=-4.6) = 0\n",
    "\n",
    "b) P(Z>z) = 0.05\n",
    "\n",
    "P(Z > z) = 0.05 => P(Z ≤ z) = 0.95\n",
    "So z = 1.644854\n",
    "\n",
    "c) P(-z <Z<z)=0.99\n",
    "\n",
    "z=2.58"
   ]
  },
  {
   "cell_type": "markdown",
   "metadata": {},
   "source": [
    "Problem Statement 11:\n",
    "The current flow in a copper wire follow a normal distribution with a mean of 10 𝑚A \n",
    "and a variance of 4 (𝑚𝐴)2. \n",
    "What is the probability that a current measurement will exceed 13 𝑚𝐴? What is the \n",
    "probability that a current measurement is between 9 and 11mA? Determine the \n",
    "current measurement which has a probability of 0.98"
   ]
  },
  {
   "cell_type": "markdown",
   "metadata": {},
   "source": [
    "Let X X denote the current in mA.\n",
    "\n",
    "The requested probability can be represented as P(X > 13).\n",
    "\n",
    "Let Z= (X- 10)/ 2.\n",
    "\n",
    "We note that X> 13 corresponds to Z> 1.5. So,\n",
    "\n",
    "P(X>13)=P(Z>1.5)=1-P(Z<=1.5)=1-0.93319=0.06681\n",
    "\n",
    "So, probability that current will exceed 13 mA is 0.06681.\n",
    "\n",
    "P(9<X<11)=P((9-10)/2 < (X-10)/2 < (11-10)/2) = P(-0.5<X<0.5) = P(Z<0.5)-P(Z<-0.5)\n",
    "\n",
    "=0.69146-0.30854=0.38292\n",
    "\n",
    "So propbability that current measurement is between 9-11 mA is 0.38292.\n",
    "\n",
    "z=(x-10)/2\n",
    "\n",
    "P(Z<(x-10)/2)=0.98\n",
    "\n",
    "Since P(Z<2.05)=0.97982\n",
    "\n",
    "So, (x-10)/2=2.05 => x=14.1 mA"
   ]
  },
  {
   "cell_type": "markdown",
   "metadata": {},
   "source": [
    "Problem Statement 12:\n",
    "The shaft in a piston has its diameter normally distributed with a mean of 0.2508 inch \n",
    "and a standard deviation of 0.0005 inch. The specifications of the shaft are 0.2500 ∓\n",
    "0.0015 inch. What proportion of shafts are in sync with the specifications? If the \n",
    "process is centered so that the mean is equal to the target value of 0.2500, what \n",
    "proportion of shafts conform to the new specifications? What is your conclusion from \n",
    "this experiment?"
   ]
  },
  {
   "cell_type": "markdown",
   "metadata": {},
   "source": [
    "Let X denote the shaft diameter in inch.\n",
    "\n",
    "P(0.2485 < X <0.2515) = P((0.2485-0.2508)/0.0005 < Z<(0.2515-0.2508)/0.0005)\n",
    "\n",
    "=P(-4.6<Z<1.4) = P(Z<1.4)-P(Z<-4.6)\n",
    "\n",
    "=0.91924-0.0=0.91924 => 91.924% shaftes are in sync with specifications\n",
    "\n",
    "If the process is centered so that mean is equal to target value of 0.2500, proportion of shafts conforming to new specifications are:\n",
    "\n",
    "P(0.2485 < X<0.2515)= P((0.2485-0.2500)/0.0005 < Z< (0.2515-0.2500)/0.0005)\n",
    "\n",
    "=P(-3<Z<3) = P(Z<3)-P(Z<-3)\n",
    "\n",
    "=0.99865-0.00135 = 0.9973  => yield increased to approximately 99.73%"
   ]
  }
 ],
 "metadata": {
  "kernelspec": {
   "display_name": "Python 3",
   "language": "python",
   "name": "python3"
  },
  "language_info": {
   "codemirror_mode": {
    "name": "ipython",
    "version": 3
   },
   "file_extension": ".py",
   "mimetype": "text/x-python",
   "name": "python",
   "nbconvert_exporter": "python",
   "pygments_lexer": "ipython3",
   "version": "3.8.5"
  }
 },
 "nbformat": 4,
 "nbformat_minor": 4
}
